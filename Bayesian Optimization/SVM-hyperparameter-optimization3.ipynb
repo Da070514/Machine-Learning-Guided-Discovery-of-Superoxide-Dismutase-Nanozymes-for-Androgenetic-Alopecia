{
 "cells": [
  {
   "cell_type": "code",
   "execution_count": null,
   "id": "5b3a9de9",
   "metadata": {},
   "outputs": [],
   "source": [
    "import lightgbm as lgb\n",
    "import matplotlib.pyplot as plt\n",
    "import warnings\n",
    "warnings.filterwarnings(\"ignore\")\n",
    "import sklearn\n",
    "from bayes_opt import BayesianOptimization\n",
    "from sklearn.preprocessing import StandardScaler  # 标准化工具\n",
    "import numpy as np\n",
    "from sklearn.model_selection import cross_val_score , KFold , cross_val_predict\n",
    "from sklearn.model_selection import train_test_split\n",
    "import sklearn.tree as st\n",
    "import sklearn.metrics as sm\n",
    "import sklearn.tree as tree\n",
    "import sklearn.ensemble as se\n",
    "from sklearn.model_selection import cross_val_score\n",
    "from sklearn.tree import DecisionTreeRegressor\n",
    "from sklearn.ensemble import AdaBoostRegressor\n",
    "from sklearn.metrics import r2_score\n",
    "from sklearn.metrics import mean_squared_error\n",
    "from sklearn.metrics import make_scorer\n",
    "import sklearn.metrics as metrics\n",
    "import pandas as pd \n",
    "from sklearn import preprocessing  \n",
    "from sklearn.ensemble import RandomForestRegressor\n",
    "import xgboost  as xgb\n",
    "from sklearn import tree\n",
    "import matplotlib.pyplot as plt\n",
    "from mpl_toolkits.mplot3d import Axes3D\n",
    "from sklearn.svm import SVR\n",
    "from sklearn.datasets import make_blobs\n",
    "data = pd.read_csv(\"C:/Users/da070/Desktop/Mrs.zhang/3.csv\")\n",
    "data.head()\n",
    "x = data.drop(['number'],axis=1)\n",
    "y = data[['number']]\n",
    "scaler = StandardScaler()\n",
    "x_scaler = scaler.fit_transform(x)\n",
    "x_train,x_test,y_train,y_test = train_test_split(x_scaler,y,test_size=0.2,random_state=30)\n",
    "def svc_cv(C,epsilon):\n",
    "\t# 交叉检验，得到的评分为贝叶斯调参优化目标\n",
    "    val = cross_val_score(\n",
    "    \t# 由于bayes优化只能优化连续超参数，因此要加上int()转为离散超参数\n",
    "        SVR(C=int(C),\n",
    "            epsilon = int(epsilon)),\n",
    "        x_train, y_train, scoring='neg_mean_squared_error', cv=10\n",
    "    ).mean()\n",
    "    return val\n",
    "# 规定各参数搜索范围\n",
    "svc_cv = BayesianOptimization(svc_cv,\n",
    "                             {'C': (0,1000),\n",
    "                             'epsilon':(0.05,2)\n",
    "                             })\n",
    "svc_cv.maximize()"
   ]
  }
 ],
 "metadata": {
  "kernelspec": {
   "display_name": "Python 3 (ipykernel)",
   "language": "python",
   "name": "python3"
  },
  "language_info": {
   "codemirror_mode": {
    "name": "ipython",
    "version": 3
   },
   "file_extension": ".py",
   "mimetype": "text/x-python",
   "name": "python",
   "nbconvert_exporter": "python",
   "pygments_lexer": "ipython3",
   "version": "3.9.12"
  }
 },
 "nbformat": 4,
 "nbformat_minor": 5
}
