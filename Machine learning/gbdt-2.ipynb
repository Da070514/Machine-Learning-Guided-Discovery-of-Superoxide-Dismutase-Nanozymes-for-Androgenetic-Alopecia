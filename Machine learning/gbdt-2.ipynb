{
 "cells": [
  {
   "cell_type": "code",
   "execution_count": 1,
   "id": "27976ffb",
   "metadata": {},
   "outputs": [
    {
     "name": "stderr",
     "output_type": "stream",
     "text": [
      "D:\\anaconda\\lib\\site-packages\\dask\\dataframe\\utils.py:369: FutureWarning: pandas.Int64Index is deprecated and will be removed from pandas in a future version. Use pandas.Index with the appropriate dtype instead.\n",
      "  _numeric_index_types = (pd.Int64Index, pd.Float64Index, pd.UInt64Index)\n",
      "D:\\anaconda\\lib\\site-packages\\dask\\dataframe\\utils.py:369: FutureWarning: pandas.Float64Index is deprecated and will be removed from pandas in a future version. Use pandas.Index with the appropriate dtype instead.\n",
      "  _numeric_index_types = (pd.Int64Index, pd.Float64Index, pd.UInt64Index)\n",
      "D:\\anaconda\\lib\\site-packages\\dask\\dataframe\\utils.py:369: FutureWarning: pandas.UInt64Index is deprecated and will be removed from pandas in a future version. Use pandas.Index with the appropriate dtype instead.\n",
      "  _numeric_index_types = (pd.Int64Index, pd.Float64Index, pd.UInt64Index)\n"
     ]
    },
    {
     "name": "stdout",
     "output_type": "stream",
     "text": [
      "Feature: 0, Score: 0.32856\n",
      "Feature: 1, Score: 0.14016\n",
      "Feature: 2, Score: 0.19809\n",
      "Feature: 3, Score: 0.10686\n",
      "Feature: 4, Score: 0.07524\n",
      "Feature: 5, Score: 0.00000\n",
      "Feature: 6, Score: 0.15110\n"
     ]
    },
    {
     "data": {
      "image/png": "[encoded data removed]",
      "text/plain": [
       "<Figure size 432x288 with 1 Axes>"
      ]
     },
     "metadata": {
      "needs_background": "light"
     },
     "output_type": "display_data"
    },
    {
     "name": "stdout",
     "output_type": "stream",
     "text": [
      "0.3817435665486296\n",
      "0.8108009980473138\n",
      "2.8071122128064636\n"
     ]
    },
    {
     "data": {
      "image/png": "[encoded data removed]",
      "text/plain": [
       "<Figure size 720x720 with 1 Axes>"
      ]
     },
     "metadata": {
      "needs_background": "light"
     },
     "output_type": "display_data"
    }
   ],
   "source": [
    "import lightgbm as lgb\n",
    "import matplotlib.pyplot as plt\n",
    "import warnings\n",
    "warnings.filterwarnings(\"ignore\")\n",
    "import sklearn\n",
    "from bayes_opt import BayesianOptimization\n",
    "from sklearn.preprocessing import StandardScaler  # 标准化工具\n",
    "import numpy as np\n",
    "from sklearn.preprocessing import StandardScaler\n",
    "from sklearn.model_selection import cross_val_score , KFold , cross_val_predict\n",
    "from sklearn.model_selection import train_test_split\n",
    "import sklearn.tree as st\n",
    "import sklearn.metrics as sm\n",
    "import sklearn.tree as tree\n",
    "from sklearn.ensemble import GradientBoostingRegressor\n",
    "import sklearn.ensemble as se\n",
    "from sklearn.model_selection import cross_val_score\n",
    "from sklearn.tree import DecisionTreeRegressor\n",
    "from sklearn.ensemble import AdaBoostRegressor\n",
    "from sklearn.metrics import r2_score\n",
    "from sklearn.metrics import mean_squared_error\n",
    "from sklearn.metrics import make_scorer\n",
    "import sklearn.metrics as metrics\n",
    "import pandas as pd \n",
    "from sklearn import preprocessing  \n",
    "from sklearn.ensemble import RandomForestRegressor\n",
    "import xgboost  as xgb\n",
    "from sklearn import tree\n",
    "import matplotlib.pyplot as plt\n",
    "from mpl_toolkits.mplot3d import Axes3D\n",
    "from sklearn.datasets import make_blobs\n",
    "data = pd.read_csv(\"C:/Users/da070/Desktop/Mrs.zhang/2.csv\")\n",
    "data.head()\n",
    "x = data.drop(['Number'],axis=1)\n",
    "y = data[['Number']]\n",
    "scaler = StandardScaler()\n",
    "x_scaler = scaler.fit_transform(x)\n",
    "x_train,x_test,y_train,y_test = train_test_split(x_scaler,y,test_size=0.2,random_state=30)\n",
    "model = GradientBoostingRegressor(n_estimators=55,max_features=5,max_depth=6,max_leaf_nodes=4,random_state=42)\n",
    "model.fit(x_train,y_train)\n",
    "importance = model.feature_importances_\n",
    "# summarize feature importance\n",
    "for i,v in enumerate(importance):\n",
    "    print('Feature: %0d, Score: %.5f' % (i,v)) \n",
    "plt.bar([x for x in range(len(importance))], importance) \n",
    "plt.savefig('F:/fig2/importancegbdt2.tif',dpi=300)\n",
    "plt.show()\n",
    "pre_test = model.predict(x_test) \n",
    "pre_train = model.predict(x_train)\n",
    "r2_score = ms.cross_val_score(model, x_test, y_test, cv=5, scoring='r2')\n",
    "r2_score_train = ms.cross_val_score(model, x_train, y_train, cv=5, scoring='r2')\n",
    "print(r2_score)\n",
    "print(r2_score_train)\n",
    "rmse_tr_lr=mean_squared_error(y_test,pre_test,squared=False)\n",
    "print(rmse_tr_lr)\n",
    "plt.figure(figsize=(10,10))\n",
    "plt.scatter(y_test,pre_test,color='blue',label='test') \n",
    "plt.scatter(y_train,pre_train,color='red',label='train')\n",
    "plt.legend()  \n",
    "y_test=pd.DataFrame(data=y_test)\n",
    "pre_test=pd.DataFrame(data=pre_test)\n",
    "pre_train=pd.DataFrame(data=pre_train)\n",
    "#y_test.to_csv('F:/data2/RF1__test.csv')  \n",
    "#pre_test.to_csv('F:/data2/RF1_pred.csv') \n",
    "pre_train.to_csv('F:/data3/gbdt2_pred_train.csv') \n",
    "y_train.to_csv('F:/data3/gbdt2__y_train.csv') "
   ]
  }
 ],
 "metadata": {
  "kernelspec": {
   "display_name": "Python 3 (ipykernel)",
   "language": "python",
   "name": "python3"
  },
  "language_info": {
   "codemirror_mode": {
    "name": "ipython",
    "version": 3
   },
   "file_extension": ".py",
   "mimetype": "text/x-python",
   "name": "python",
   "nbconvert_exporter": "python",
   "pygments_lexer": "ipython3",
   "version": "3.9.12"
  }
 },
 "nbformat": 4,
 "nbformat_minor": 5
}
