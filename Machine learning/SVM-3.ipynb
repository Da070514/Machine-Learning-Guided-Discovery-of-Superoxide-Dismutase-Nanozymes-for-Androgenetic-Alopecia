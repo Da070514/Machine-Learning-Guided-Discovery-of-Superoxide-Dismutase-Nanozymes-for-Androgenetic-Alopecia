{
 "cells": [
  {
   "cell_type": "code",
   "execution_count": 2,
   "id": "e9247ee2",
   "metadata": {},
   "outputs": [
    {
     "name": "stdout",
     "output_type": "stream",
     "text": [
      "0.5203186416458434\n",
      "0.705085175828338\n",
      "2.173205641614499\n",
      "           0\n",
      "0   2.243141\n",
      "1   2.076047\n",
      "2   3.621305\n",
      "3  -1.171924\n",
      "4  -0.779857\n",
      "5   2.228796\n",
      "6   4.151327\n",
      "7   0.590280\n",
      "8   3.815573\n",
      "9   6.590059\n",
      "10  6.405635\n",
      "11  2.266709\n",
      "12 -1.715946\n",
      "13  1.244983\n",
      "14  2.166123\n",
      "15 -0.161281\n",
      "16  1.533770\n",
      "17 -1.889767\n"
     ]
    },
    {
     "data": {
      "image/png": "[encoded data removed]",
      "text/plain": [
       "<Figure size 720x720 with 1 Axes>"
      ]
     },
     "metadata": {
      "needs_background": "light"
     },
     "output_type": "display_data"
    }
   ],
   "source": [
    "import lightgbm as lgb\n",
    "import matplotlib.pyplot as plt\n",
    "import warnings\n",
    "warnings.filterwarnings(\"ignore\")\n",
    "import sklearn\n",
    "from bayes_opt import BayesianOptimization\n",
    "from sklearn.preprocessing import StandardScaler  # 标准化工具\n",
    "import numpy as np\n",
    "from sklearn.model_selection import cross_val_score , KFold , cross_val_predict\n",
    "from sklearn.model_selection import train_test_split\n",
    "import sklearn.tree as st\n",
    "import sklearn.metrics as sm\n",
    "import sklearn.tree as tree\n",
    "import sklearn.ensemble as se\n",
    "from sklearn.model_selection import cross_val_score\n",
    "from sklearn.tree import DecisionTreeRegressor\n",
    "from sklearn.ensemble import AdaBoostRegressor\n",
    "from sklearn.metrics import r2_score\n",
    "from sklearn.metrics import mean_squared_error\n",
    "from sklearn.metrics import make_scorer\n",
    "import sklearn.metrics as metrics\n",
    "import pandas as pd \n",
    "from sklearn import preprocessing  \n",
    "from sklearn.ensemble import RandomForestRegressor\n",
    "import xgboost  as xgb\n",
    "from sklearn import tree\n",
    "import matplotlib.pyplot as plt\n",
    "from mpl_toolkits.mplot3d import Axes3D\n",
    "from sklearn.svm import SVR\n",
    "from sklearn.datasets import make_blobs\n",
    "data = pd.read_csv(\"C:/Users/da070/Desktop/Mrs.zhang/3.csv\")\n",
    "data.head()\n",
    "x = data.drop(['Number'],axis=1)\n",
    "y = data[['Number']]\n",
    "scaler = StandardScaler()\n",
    "x_scaler = scaler.fit_transform(x)\n",
    "x_train,x_test,y_train,y_test = train_test_split(x_scaler,y,test_size=0.2,random_state=2)\n",
    "from sklearn.svm import SVR\n",
    "model = SVR(C=500, gamma=0.058,epsilon=0.95)\n",
    "model.fit(x_train, y_train)\n",
    "#importance = model.feature_importances_\n",
    "# summarize feature importance\n",
    "#for i,v in enumerate(importance):\n",
    "    #print('Feature: %0d, Score: %.5f' % (i,v)) \n",
    "#plt.bar([x for x in range(len(importance))], importance) \n",
    "#plt.savefig('F:/fig/importance6.tif',dpi=300)\n",
    "#plt.show()\n",
    "pre_test = model.predict(x_test) \n",
    "pre_train = model.predict(x_train)\n",
    "r2_score = ms.cross_val_score(model, x_test, y_test, cv=5, scoring='r2')\n",
    "r2_score_train = ms.cross_val_score(model, x_train, y_train, cv=5, scoring='r2')\n",
    "print(r2_score)\n",
    "print(r2_score_train)\n",
    "rmse_tr_lr=mean_squared_error(y_test,pre_test,squared=False)\n",
    "print(rmse_tr_lr)\n",
    "plt.figure(figsize=(10,10))\n",
    "plt.scatter(y_test,pre_test,color='blue',label='test') \n",
    "plt.scatter(y_train,pre_train,color='red',label='train')\n",
    "plt.legend()  \n",
    "y_test=pd.DataFrame(data=y_test)\n",
    "pre_test=pd.DataFrame(data=pre_test)\n",
    "pre_train=pd.DataFrame(data=pre_train)\n",
    "#y_test.to_csv('F:/data2/RF1__test.csv')  \n",
    "#pre_test.to_csv('F:/data2/RF1_pred.csv') \n",
    "pre_train.to_csv('F:/data3/SVM3_pred_train.csv') \n",
    "y_train.to_csv('F:/data3/SVM3__y_train.csv')  \n",
    "print(pre_test)\n"
   ]
  }
 ],
 "metadata": {
  "kernelspec": {
   "display_name": "Python 3 (ipykernel)",
   "language": "python",
   "name": "python3"
  },
  "language_info": {
   "codemirror_mode": {
    "name": "ipython",
    "version": 3
   },
   "file_extension": ".py",
   "mimetype": "text/x-python",
   "name": "python",
   "nbconvert_exporter": "python",
   "pygments_lexer": "ipython3",
   "version": "3.9.12"
  }
 },
 "nbformat": 4,
 "nbformat_minor": 5
}
