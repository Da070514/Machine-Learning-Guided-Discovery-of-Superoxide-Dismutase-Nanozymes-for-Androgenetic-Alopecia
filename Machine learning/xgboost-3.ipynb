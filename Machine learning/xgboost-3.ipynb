{
 "cells": [
  {
   "cell_type": "code",
   "execution_count": 1,
   "id": "cdf070da",
   "metadata": {},
   "outputs": [
    {
     "name": "stderr",
     "output_type": "stream",
     "text": [
      "D:\\anaconda\\lib\\site-packages\\xgboost\\compat.py:36: FutureWarning: pandas.Int64Index is deprecated and will be removed from pandas in a future version. Use pandas.Index with the appropriate dtype instead.\n",
      "  from pandas import MultiIndex, Int64Index\n",
      "D:\\anaconda\\lib\\site-packages\\dask\\dataframe\\utils.py:369: FutureWarning: pandas.Int64Index is deprecated and will be removed from pandas in a future version. Use pandas.Index with the appropriate dtype instead.\n",
      "  _numeric_index_types = (pd.Int64Index, pd.Float64Index, pd.UInt64Index)\n",
      "D:\\anaconda\\lib\\site-packages\\dask\\dataframe\\utils.py:369: FutureWarning: pandas.Float64Index is deprecated and will be removed from pandas in a future version. Use pandas.Index with the appropriate dtype instead.\n",
      "  _numeric_index_types = (pd.Int64Index, pd.Float64Index, pd.UInt64Index)\n",
      "D:\\anaconda\\lib\\site-packages\\dask\\dataframe\\utils.py:369: FutureWarning: pandas.UInt64Index is deprecated and will be removed from pandas in a future version. Use pandas.Index with the appropriate dtype instead.\n",
      "  _numeric_index_types = (pd.Int64Index, pd.Float64Index, pd.UInt64Index)\n",
      "D:\\anaconda\\lib\\site-packages\\xgboost\\data.py:250: FutureWarning: pandas.Int64Index is deprecated and will be removed from pandas in a future version. Use pandas.Index with the appropriate dtype instead.\n",
      "  elif isinstance(data.columns, (pd.Int64Index, pd.RangeIndex)):\n"
     ]
    },
    {
     "name": "stdout",
     "output_type": "stream",
     "text": [
      "0.49237384179197374\n",
      "0.795596925134447\n",
      "2.7469838054503755\n",
      "           0\n",
      "0   1.980833\n",
      "1   2.290213\n",
      "2   5.036531\n",
      "3   4.082672\n",
      "4  -0.495219\n",
      "5   2.263165\n",
      "6  -2.277986\n",
      "7   0.516741\n",
      "8   1.827193\n",
      "9   3.937887\n",
      "10  0.964767\n",
      "11  3.608514\n",
      "12  1.688552\n",
      "13  1.463094\n",
      "14  4.393188\n",
      "15  0.606829\n",
      "16  0.374959\n",
      "17  1.227424\n"
     ]
    },
    {
     "data": {
      "image/png": "[encoded data removed]",
      "text/plain": [
       "<Figure size 720x720 with 1 Axes>"
      ]
     },
     "metadata": {
      "needs_background": "light"
     },
     "output_type": "display_data"
    }
   ],
   "source": [
    "import xgboost as xgb\n",
    "import lightgbm as lgb\n",
    "from xgboost import plot_importance\n",
    "from matplotlib import pyplot as plt\n",
    "import warnings\n",
    "from bayes_opt import BayesianOptimization\n",
    "from sklearn.preprocessing import StandardScaler  # 标准化工具\n",
    "import numpy as np\n",
    "from sklearn.model_selection import cross_val_score , KFold , cross_val_predict\n",
    "from sklearn.model_selection import train_test_split\n",
    "import sklearn.tree as st\n",
    "import sklearn.metrics as sm\n",
    "import sklearn.tree as tree\n",
    "import sklearn.ensemble as se\n",
    "import sklearn.metrics\n",
    "from sklearn.model_selection import cross_val_score\n",
    "from sklearn.tree import DecisionTreeRegressor\n",
    "from sklearn.ensemble import AdaBoostRegressor\n",
    "from sklearn.metrics import r2_score\n",
    "from sklearn.metrics import mean_squared_error\n",
    "from sklearn.metrics import make_scorer\n",
    "import sklearn.metrics as metrics\n",
    "import pandas as pd \n",
    "from sklearn.linear_model import LinearRegression\n",
    "from sklearn import preprocessing  \n",
    "from sklearn.ensemble import RandomForestRegressor\n",
    "import xgboost  as xgb\n",
    "from sklearn import tree\n",
    "import matplotlib.pyplot as plt\n",
    "from mpl_toolkits.mplot3d import Axes3D\n",
    "from sklearn.datasets import make_blobs\n",
    "from xgboost import plot_importance\n",
    "from matplotlib import pyplot as plt\n",
    "import numpy as np\n",
    "import pandas as pd\n",
    "import os\n",
    "from sklearn.preprocessing import StandardScaler\n",
    "data = pd.read_csv(\"C:/Users/da070/Desktop/Mrs.zhang/3.csv\")\n",
    "data.head()\n",
    "x = data.drop(['Number'],axis=1)\n",
    "y = data[['Number']]\n",
    "scaler = StandardScaler()\n",
    "x_scaler = scaler.fit_transform(x)\n",
    "x_train,x_test,y_train,y_test=train_test_split(x, y, test_size=0.2, random_state=16)\n",
    "model = xgb.XGBRegressor(max_depth = 4, learning_rate = 0.025, n_estimators=80,random_state=42)\n",
    "model.fit(x_train, y_train)\n",
    "pre_test = model.predict(x_test) \n",
    "pre_train = model.predict(x_train)\n",
    "r2_score = ms.cross_val_score(model, x_test, y_test, cv=5, scoring='r2')\n",
    "r2_score_train = ms.cross_val_score(model, x_train, y_train, cv=5, scoring='r2')\n",
    "print(r2_score)\n",
    "print(r2_score_train)\n",
    "rmse_tr_lr=mean_squared_error(y_test,pre_test,squared=False)\n",
    "print(rmse_tr_lr)\n",
    "plt.figure(figsize=(10,10))\n",
    "plt.scatter(y_test,pre_test,color='blue',label='test') \n",
    "plt.scatter(y_train,pre_train,color='red',label='train')\n",
    "plt.legend()  \n",
    "y_test=pd.DataFrame(data=y_test)\n",
    "pre_test=pd.DataFrame(data=pre_test)\n",
    "pre_train=pd.DataFrame(data=pre_train)\n",
    "#y_test.to_csv('F:/data2/RF1__test.csv')  \n",
    "#pre_test.to_csv('F:/data2/RF1_pred.csv') \n",
    "pre_train.to_csv('F:/data3/XGB3_pred_train.csv') \n",
    "y_train.to_csv('F:/data3/XGB3__y_train.csv')  \n",
    "print(pre_test)"
   ]
  }
 ],
 "metadata": {
  "kernelspec": {
   "display_name": "Python 3 (ipykernel)",
   "language": "python",
   "name": "python3"
  },
  "language_info": {
   "codemirror_mode": {
    "name": "ipython",
    "version": 3
   },
   "file_extension": ".py",
   "mimetype": "text/x-python",
   "name": "python",
   "nbconvert_exporter": "python",
   "pygments_lexer": "ipython3",
   "version": "3.9.12"
  }
 },
 "nbformat": 4,
 "nbformat_minor": 5
}
