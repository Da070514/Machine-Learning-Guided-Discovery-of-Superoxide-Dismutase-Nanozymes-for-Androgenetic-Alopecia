{
 "cells": [
  {
   "cell_type": "code",
   "execution_count": 2,
   "id": "9e816d2a",
   "metadata": {},
   "outputs": [
    {
     "name": "stdout",
     "output_type": "stream",
     "text": [
      "[LightGBM] [Warning] Unknown parameter: numIterations\n",
      "0.525485900624237\n",
      "0.7792562226502169\n",
      "2.8018604471977224\n"
     ]
    },
    {
     "data": {
      "image/png": "[encoded data removed]",
      "text/plain": [
       "<Figure size 720x720 with 1 Axes>"
      ]
     },
     "metadata": {
      "needs_background": "light"
     },
     "output_type": "display_data"
    }
   ],
   "source": [
    "import lightgbm as lgb\n",
    "import matplotlib.pyplot as plt\n",
    "import warnings\n",
    "from lightgbm import LGBMRegressor\n",
    "warnings.filterwarnings(\"ignore\")\n",
    "import sklearn\n",
    "from bayes_opt import BayesianOptimization\n",
    "from sklearn.preprocessing import StandardScaler  # 标准化工具\n",
    "import numpy as np\n",
    "from sklearn.preprocessing import StandardScaler\n",
    "from sklearn.model_selection import cross_val_score , KFold , cross_val_predict\n",
    "from sklearn.model_selection import train_test_split\n",
    "import sklearn.tree as st\n",
    "import sklearn.metrics as sm\n",
    "from sklearn.model_selection import GridSearchCV\n",
    "import sklearn.tree as tree\n",
    "import sklearn.ensemble as se\n",
    "from sklearn.model_selection import cross_val_score\n",
    "from sklearn.tree import DecisionTreeRegressor\n",
    "from sklearn.ensemble import AdaBoostRegressor\n",
    "from sklearn.metrics import r2_score\n",
    "from sklearn.metrics import mean_squared_error\n",
    "from sklearn.metrics import make_scorer\n",
    "import sklearn.metrics as metrics\n",
    "import pandas as pd \n",
    "from sklearn import preprocessing  \n",
    "from sklearn.ensemble import RandomForestRegressor\n",
    "import xgboost  as xgb\n",
    "from sklearn import tree\n",
    "import matplotlib.pyplot as plt\n",
    "from mpl_toolkits.mplot3d import Axes3D\n",
    "from sklearn.datasets import make_blobs\n",
    "data = pd.read_csv(\"C:/Users/da070/Desktop/Mrs.zhang/3.csv\")\n",
    "data.head()\n",
    "x = data.drop(['Number'],axis=1)\n",
    "y = data[['Number']]\n",
    "scaler = StandardScaler()\n",
    "x_scaler = scaler.fit_transform(x)\n",
    "x_train,x_test,y_train,y_test = train_test_split(x_scaler,y,test_size=0.2,random_state=27)\n",
    "model = LGBMRegressor(objective='regression',num_leaves=5, learning_rate=0.33, n_estimators=385,max_bin =600,numIterations = 300,max_depth=8)\n",
    "#estimator = LGBMRegressor(num_leaves=31)\n",
    "#param_grid = {\n",
    "    #'learning_rate': [0.01, 0.1, 1],\n",
    "    #'n_estimators': [20, 40]\n",
    "#}\n",
    "#gbm = GridSearchCV(estimator, param_grid)\n",
    "#gbm.fit(x_train, y_train)\n",
    "#print('Best parameters found by grid search are:', gbm.best_params_)\n",
    "model.fit(x_train,y_train)\n",
    "#importance = model.feature_importances_\n",
    "# summarize feature importance\n",
    "#for i,v in enumerate(importance):\n",
    "    #print('Feature: %0d, Score: %.5f' % (i,v)) \n",
    "#plt.bar([x for x in range(len(importance))], importance) \n",
    "#plt.savefig('F:/fig2/importanceLGBM1.tif',dpi=300)\n",
    "#plt.show()\n",
    "pre_test = model.predict(x_test) \n",
    "pre_train = model.predict(x_train)\n",
    "r2_score = ms.cross_val_score(model, x_test, y_test, cv=5, scoring='r2')\n",
    "r2_score_train = ms.cross_val_score(model, x_train, y_train, cv=5, scoring='r2')\n",
    "print(r2_score)\n",
    "print(r2_score_train)\n",
    "rmse_tr_lr=mean_squared_error(y_test,pre_test,squared=False)\n",
    "print(rmse_tr_lr)\n",
    "plt.figure(figsize=(10,10))\n",
    "plt.scatter(y_test,pre_test,color='blue',label='test') \n",
    "plt.scatter(y_train,pre_train,color='red',label='train')\n",
    "plt.legend()  \n",
    "y_test=pd.DataFrame(data=y_test)\n",
    "pre_test=pd.DataFrame(data=pre_test)\n",
    "pre_train=pd.DataFrame(data=pre_train)\n",
    "#y_test.to_csv('F:/data2/RF1__test.csv')  \n",
    "#pre_test.to_csv('F:/data2/RF1_pred.csv') \n",
    "pre_train.to_csv('F:/data3/LGB3_pred_train.csv') \n",
    "y_train.to_csv('F:/data3/LGB3__y_train.csv') "
   ]
  },
  {
   "cell_type": "code",
   "execution_count": null,
   "id": "be6ea9bc",
   "metadata": {},
   "outputs": [],
   "source": []
  }
 ],
 "metadata": {
  "kernelspec": {
   "display_name": "Python 3 (ipykernel)",
   "language": "python",
   "name": "python3"
  },
  "language_info": {
   "codemirror_mode": {
    "name": "ipython",
    "version": 3
   },
   "file_extension": ".py",
   "mimetype": "text/x-python",
   "name": "python",
   "nbconvert_exporter": "python",
   "pygments_lexer": "ipython3",
   "version": "3.9.12"
  }
 },
 "nbformat": 4,
 "nbformat_minor": 5
}
